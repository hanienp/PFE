{
 "cells": [
  {
   "cell_type": "code",
   "execution_count": 2,
   "id": "62f3d682",
   "metadata": {},
   "outputs": [],
   "source": [
    "# Define the scores for each alternative\n",
    "alternatives = {\n",
    "    \"Emplacement des zones de chargement\": {\"min\": 0.5671, \"max\": 0.5677},\n",
    "    \"Placement des matériaux par segment\": {\"min\": 0.5414, \"max\": 0.5950},\n",
    "    \"Stockage des commandes préparées\": {\"min\": 0.4809, \"max\": 0.4442},\n",
    "    \"Zone de chargement pour la grue\": {\"min\": 0.5524, \"max\": 0.6034},\n",
    "    \"Planification de l'opération avec la grue (quel camion à quelle heure)\": {\"min\": 0.5474, \"max\": 0.6021},\n",
    "    \"Emplacement et processus de maintenance\": {\"min\": 0.6000, \"max\": 0.6601},\n",
    "    \"Planification de l'opération avec le chariot élivateur\": {\"min\": 0.5464, \"max\": 0.5629},\n",
    "    \"Absence de préparation en temps opportun des documents et autorisations\": {\"min\": 0.5451, \"max\": 0.5551}\n",
    "}"
   ]
  },
  {
   "cell_type": "code",
   "execution_count": 3,
   "id": "7c491a89",
   "metadata": {},
   "outputs": [],
   "source": [
    "# Function to compare intervals and identify alternatives to eliminate\n",
    "def eliminate_alternatives(alternatives):\n",
    "    alternatives_to_keep = list(alternatives.keys())\n",
    "    for alt1 in alternatives:\n",
    "        for alt2 in alternatives:\n",
    "            if alt1 != alt2:\n",
    "                if alternatives[alt1][\"min\"] > alternatives[alt2][\"max\"]:\n",
    "                    if alt2 in alternatives_to_keep:\n",
    "                        alternatives_to_keep.remove(alt2)\n",
    "    return alternatives_to_keep"
   ]
  },
  {
   "cell_type": "code",
   "execution_count": 4,
   "id": "f396ce6c",
   "metadata": {},
   "outputs": [
    {
     "name": "stdout",
     "output_type": "stream",
     "text": [
      "Alternatives à garder:\n",
      "Zone de chargement pour la grue\n",
      "Planification de l'opération avec la grue (quel camion à quelle heure)\n",
      "Emplacement et processus de maintenance\n",
      "\n",
      "Alternatives à éliminer:\n",
      "Emplacement des zones de chargement\n",
      "Placement des matériaux par segment\n",
      "Stockage des commandes préparées\n",
      "Planification de l'opération avec le chariot élivateur\n",
      "Absence de préparation en temps opportun des documents et autorisations\n"
     ]
    }
   ],
   "source": [
    "# Identify alternatives to keep\n",
    "alternatives_to_keep = eliminate_alternatives(alternatives)\n",
    "\n",
    "# Print the results\n",
    "print(\"Alternatives à garder:\")\n",
    "for alt in alternatives_to_keep:\n",
    "    print(alt)\n",
    "\n",
    "print(\"\\nAlternatives à éliminer:\")\n",
    "for alt in alternatives:\n",
    "    if alt not in alternatives_to_keep:\n",
    "        print(alt)"
   ]
  },
  {
   "cell_type": "code",
   "execution_count": null,
   "id": "5c4d681c",
   "metadata": {},
   "outputs": [],
   "source": []
  }
 ],
 "metadata": {
  "kernelspec": {
   "display_name": "Python 3 (ipykernel)",
   "language": "python",
   "name": "python3"
  },
  "language_info": {
   "codemirror_mode": {
    "name": "ipython",
    "version": 3
   },
   "file_extension": ".py",
   "mimetype": "text/x-python",
   "name": "python",
   "nbconvert_exporter": "python",
   "pygments_lexer": "ipython3",
   "version": "3.10.12"
  }
 },
 "nbformat": 4,
 "nbformat_minor": 5
}
