{
 "cells": [
  {
   "cell_type": "code",
   "execution_count": 1,
   "id": "507e0da3",
   "metadata": {},
   "outputs": [],
   "source": [
    "import numpy as np"
   ]
  },
  {
   "cell_type": "code",
   "execution_count": 2,
   "id": "bdfe6005",
   "metadata": {},
   "outputs": [],
   "source": [
    "# Fonction pour normaliser la matrice selon la méthode spécifiée\n",
    "def normalize(matrix):\n",
    "    norm_matrix = np.zeros(matrix.shape)\n",
    "    for i in range(matrix.shape[1]):\n",
    "        norm_factor = np.sqrt(np.sum(matrix[:, i] ** 2))\n",
    "        norm_matrix[:, i] = matrix[:, i] / norm_factor\n",
    "    return norm_matrix\n",
    "\n",
    "# Fonction pour appliquer TOPSIS\n",
    "def topsis(matrix, weights, benefit_criteria):\n",
    "    # Normalisation de la matrice\n",
    "    normalized_matrix = normalize(matrix)\n",
    "    \n",
    "    # Calcul des solutions idéales positive et négative\n",
    "    ideal_best = np.zeros(matrix.shape[1])\n",
    "    ideal_worst = np.zeros(matrix.shape[1])\n",
    "    \n",
    "    for i in range(matrix.shape[1]):\n",
    "        if benefit_criteria[i]:\n",
    "            ideal_best[i] = np.max(normalized_matrix[:, i])\n",
    "            ideal_worst[i] = np.min(normalized_matrix[:, i])\n",
    "        else:\n",
    "            ideal_best[i] = np.min(normalized_matrix[:, i])\n",
    "            ideal_worst[i] = np.max(normalized_matrix[:, i])\n",
    "    \n",
    "    # Calcul des distances à la solution idéale positive et négative\n",
    "    distance_best = np.sqrt(np.sum((normalized_matrix - ideal_best)**2 * weights, axis=1))\n",
    "    distance_worst = np.sqrt(np.sum((normalized_matrix - ideal_worst)**2 * weights, axis=1))\n",
    "    \n",
    "    # Calcul des scores TOPSIS\n",
    "    scores = distance_worst / (distance_best + distance_worst)\n",
    "    \n",
    "    return scores"
   ]
  },
  {
   "cell_type": "code",
   "execution_count": 3,
   "id": "d8836846",
   "metadata": {},
   "outputs": [],
   "source": [
    "# Exemple de tableau initial contenant des intervalles pour les deux premiers critères\n",
    "data = [\n",
    "   \n",
    "    [\"Emplacement des zones de chargement\",[8,9],[70,90],0.67,0.18,0.03,0.006],\n",
    "    [\"Placement des matériaux par segment\",[4,5],[10,30],0.22,0.34,0.14,0.020],\n",
    "    [\"Stockage des commandes préparées\",[7,9],[80,95],0.14,0.51,0.18,0.072],\n",
    "    [\"Zone de chargement pour la grue \",[3,4],[10,30],0.22,0.34,0.14,0.020],\n",
    "    [\"Planification de l'opération avec la grue (quel camion à quelle heure) \",[4,5],[10,30],0.24,0.37,0.13,0.016],\n",
    "    [\"Emplacement et processus de maintenance \",[2,3],[10,30],0.28,0.27,0.06,0.013],\n",
    "    [\"Planification de l'opération avec le chariot élivateur \",[5,7],[20,30],0.12,0.34,0.18,0.026],\n",
    "    [\"Absence de préparation en temps opportun des documents et autorisations\",[2,3],[20,30],0.09,0.59,0.19,0.027],\n",
    "\n",
    "\n",
    "\n",
    "]"
   ]
  },
  {
   "cell_type": "code",
   "execution_count": 4,
   "id": "0fc98df5",
   "metadata": {},
   "outputs": [],
   "source": [
    "# Séparation des données\n",
    "alternatives = [row[0] for row in data]\n",
    "interval_criteria1 = np.array([row[1] for row in data])\n",
    "interval_criteria2 = np.array([row[2] for row in data])\n",
    "other_criteria = np.array([row[3:] for row in data])"
   ]
  },
  {
   "cell_type": "code",
   "execution_count": 5,
   "id": "cf00ce93",
   "metadata": {},
   "outputs": [],
   "source": [
    "# Création des trois matrices de décision\n",
    "min_matrix = np.column_stack((interval_criteria1[:, 0], interval_criteria2[:, 0], other_criteria))\n",
    "max_matrix = np.column_stack((interval_criteria1[:, 1], interval_criteria2[:, 1], other_criteria))\n",
    "mean_matrix = np.column_stack(((interval_criteria1[:, 0] + interval_criteria1[:, 1]) / 2,\n",
    "                               (interval_criteria2[:, 0] + interval_criteria2[:, 1]) / 2,\n",
    "                               other_criteria))"
   ]
  },
  {
   "cell_type": "code",
   "execution_count": 6,
   "id": "b182e2e3",
   "metadata": {},
   "outputs": [],
   "source": [
    "# Définir les poids des critères (ici, égaux pour chaque critère)\n",
    "weights = np.ones(min_matrix.shape[1]) / min_matrix.shape[1]\n",
    "# Définir les critères bénéfiques (True) et non bénéfiques (False)\n",
    "benefit_criteria = [ False, True,  False,  False, False, False ]"
   ]
  },
  {
   "cell_type": "code",
   "execution_count": 7,
   "id": "4e04488e",
   "metadata": {},
   "outputs": [],
   "source": [
    "# Application de TOPSIS aux trois matrices de décision\n",
    "scores_min = topsis(min_matrix, weights, benefit_criteria)\n",
    "scores_max = topsis(max_matrix, weights, benefit_criteria)\n",
    "scores_mean = topsis(mean_matrix, weights, benefit_criteria)"
   ]
  },
  {
   "cell_type": "code",
   "execution_count": 8,
   "id": "0fe5f18c",
   "metadata": {},
   "outputs": [
    {
     "name": "stdout",
     "output_type": "stream",
     "text": [
      "Scores TOPSIS avec valeurs minimales: [0.56711438 0.54136439 0.48087248 0.55242005 0.54735947 0.60002827\n",
      " 0.54636639 0.54507588]\n",
      "Scores TOPSIS avec valeurs maximales: [0.56767411 0.59498349 0.44418873 0.60338028 0.6021302  0.66012136\n",
      " 0.56286144 0.55509441]\n",
      "Scores TOPSIS avec valeurs moyennes: [0.56748484 0.57032427 0.45998254 0.57990899 0.57690379 0.6318312\n",
      " 0.5545684  0.55002427]\n"
     ]
    }
   ],
   "source": [
    "# Affichage des résultats\n",
    "print(\"Scores TOPSIS avec valeurs minimales:\", scores_min)\n",
    "print(\"Scores TOPSIS avec valeurs maximales:\", scores_max)\n",
    "print(\"Scores TOPSIS avec valeurs moyennes:\", scores_mean)"
   ]
  },
  {
   "cell_type": "code",
   "execution_count": 9,
   "id": "64c06394",
   "metadata": {},
   "outputs": [
    {
     "name": "stdout",
     "output_type": "stream",
     "text": [
      "Emplacement des zones de chargement - Scores: Min: 0.5671, Max: 0.5677, Mean: 0.5675\n",
      "Placement des matériaux par segment - Scores: Min: 0.5414, Max: 0.5950, Mean: 0.5703\n",
      "Stockage des commandes préparées - Scores: Min: 0.4809, Max: 0.4442, Mean: 0.4600\n",
      "Zone de chargement pour la grue  - Scores: Min: 0.5524, Max: 0.6034, Mean: 0.5799\n",
      "Planification de l'opération avec la grue (quel camion à quelle heure)  - Scores: Min: 0.5474, Max: 0.6021, Mean: 0.5769\n",
      "Emplacement et processus de maintenance  - Scores: Min: 0.6000, Max: 0.6601, Mean: 0.6318\n",
      "Planification de l'opération avec le chariot élivateur  - Scores: Min: 0.5464, Max: 0.5629, Mean: 0.5546\n",
      "Absence de préparation en temps opportun des documents et autorisations - Scores: Min: 0.5451, Max: 0.5551, Mean: 0.5500\n"
     ]
    }
   ],
   "source": [
    "# Optionnel: Affichage des alternatives et leurs scores\n",
    "for i, alt in enumerate(alternatives):\n",
    "    print(f\"{alt} - Scores: Min: {scores_min[i]:.4f}, Max: {scores_max[i]:.4f}, Mean: {scores_mean[i]:.4f}\")"
   ]
  }
 ],
 "metadata": {
  "kernelspec": {
   "display_name": "Python 3 (ipykernel)",
   "language": "python",
   "name": "python3"
  },
  "language_info": {
   "codemirror_mode": {
    "name": "ipython",
    "version": 3
   },
   "file_extension": ".py",
   "mimetype": "text/x-python",
   "name": "python",
   "nbconvert_exporter": "python",
   "pygments_lexer": "ipython3",
   "version": "3.10.12"
  }
 },
 "nbformat": 4,
 "nbformat_minor": 5
}
